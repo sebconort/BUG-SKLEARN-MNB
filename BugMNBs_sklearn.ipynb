{
 "cells": [
  {
   "cell_type": "code",
   "execution_count": 3,
   "metadata": {
    "collapsed": true
   },
   "outputs": [],
   "source": [
    "# -*- coding: utf-8 -*-\n",
    "import pandas as pd\n",
    "import numpy as np\n",
    "from sklearn.naive_bayes import MultinomialNB\n",
    "import unicodedata\n",
    "from sklearn.feature_extraction.text import TfidfVectorizer \n",
    "from sklearn.cross_validation import train_test_split\n",
    "\n",
    "path='/Users/sebastienconort/Documents/DataScience/DataScienceNet/CDiscount/'\n",
    "#%% load et normalisation des donnees\n",
    "def norm(x):\n",
    "    return unicodedata.normalize('NFKD', unicode(x).lower()).encode('ASCII', 'ignore')"
   ]
  },
  {
   "cell_type": "code",
   "execution_count": 5,
   "metadata": {
    "collapsed": false
   },
   "outputs": [],
   "source": [
    "#load de la donnee light\n",
    "tr_df=pd.read_csv(path+'data/training_norm_light_th100_2.csv',sep=\";\",encoding='utf-8')\n",
    "\n",
    "un_cat3=tr_df.Categorie3.unique()\n",
    "rep=pd.Series(range(tr_df.Categorie3.unique().shape[0]),index=tr_df.Categorie3.unique())\n",
    "y=tr_df.Categorie3.map(rep)\n"
   ]
  },
  {
   "cell_type": "code",
   "execution_count": 10,
   "metadata": {
    "collapsed": true
   },
   "outputs": [],
   "source": [
    "te_df=pd.read_csv(path+'data/test.csv',sep=\";\",encoding='utf-8')\n",
    "te_df['Description']=te_df.Description.map(norm)\n",
    "te_df['Libelle']=te_df.Libelle.map(norm)\n",
    "\n"
   ]
  },
  {
   "cell_type": "code",
   "execution_count": 19,
   "metadata": {
    "collapsed": false
   },
   "outputs": [
    {
     "name": "stdout",
     "output_type": "stream",
     "text": [
      "fitting tfidf on hash vector\n",
      "tfidf on hash vector fitted\n",
      "X size is  (26968, 44203)\n",
      "2.30995202065 sec\n",
      "fitting model\n",
      "model fitted\n",
      "14.5418629646 sec\n",
      "score methode 1 0.435481084816\n",
      "score methode 1 0.435481084816\n",
      "score methode 1 0.216617723268\n"
     ]
    }
   ],
   "source": [
    "#iterateur generique\n",
    "from sklearn.pipeline import Pipeline\n",
    "import time\n",
    "import sys\n",
    "import scipy\n",
    "from nltk.classify.maxent import MaxentClassifier\n",
    "from sklearn.base import clone\n",
    "from sklearn.metrics.pairwise import cosine_similarity\n",
    "\n",
    "r=np.random.RandomState(42)\n",
    "\n",
    "def draw(a,size):\n",
    "    aa=r.permutation(a)\n",
    "    return [aa[i%len(aa)] for i in range(size)]\n",
    "   \n",
    "classes=y.unique()\n",
    "one_te=list(pd.DataFrame(y[:]).groupby(\"Categorie3\").apply(lambda x: r.choice(x.index,1)[0]))\n",
    "\n",
    "batch_size=5\n",
    "batch_nb=1\n",
    "\n",
    "cur_set=set(tr_df.index)\n",
    "cur_set=cur_set.difference(one_te)\n",
    "mnb_iter2=MultinomialNB(fit_prior=False,alpha=0.25)\n",
    "bycat3=pd.DataFrame(y[list(cur_set)]).groupby(\"Categorie3\").apply(lambda x:draw(x.index,batch_size*batch_nb))\n",
    "\n",
    "HV=TfidfVectorizer(sublinear_tf=True,ngram_range=(1, 1),max_features=None,stop_words=None)\n",
    "HV.fit(te_df.ix[:].apply(lambda x:    (' ').join(HVB(unicode(x.Description))[:]) + ' ' + unicode(x.Marque)+ ' ' +  unicode(x.Libelle) ,axis=1))\n",
    "\n",
    "ind_all=[xx  for x in bycat3 for xx in x]\n",
    "\n",
    "for mod in [(\"mnb_iter4\",mnb_iter2)]:\n",
    "    cl=mod[1]\n",
    "    #cl2=clone(cl)\n",
    "    for e in range(0,0+batch_nb):\n",
    "        t0=time.time()\n",
    "        ind=[]\n",
    "        for b in range(batch_size):\n",
    "            ind.extend(list(bycat3.apply(lambda x:x[(e*batch_size+b)])))\n",
    "        ind=list(set(ind))\n",
    "        print 'fitting tfidf on hash vector'\n",
    "        sys.stdout.flush()        \n",
    "        X=HV.transform(tr_df.ix[ind].apply(lambda x:   (' ').join(HVB(unicode(x.Description))[:]) + ' ' + unicode(x.Marque)+ ' ' +    unicode(x.Libelle) ,axis=1))\n",
    "        X_te=HV.transform(tr_df.ix[one_te].apply(lambda x:   (' ').join(HVB(unicode(x.Description))[:]) + ' ' + unicode(x.Marque)+ ' ' +   unicode(x.Libelle),axis=1))\n",
    "        print 'tfidf on hash vector fitted'\n",
    "        print 'X size is ', X.shape\n",
    "        t1=time.time()\n",
    "        print t1-t0, 'sec'        \n",
    "        sys.stdout.flush()\n",
    "        #tr=range(len(ind))\n",
    "        print 'fitting model'\n",
    "        sys.stdout.flush()\n",
    "        a=y[ind].value_counts()\n",
    "        w=1/a*max(a)\n",
    "        weights=[w[x] for x in y[ind]]\n",
    "        cl.fit(X,y[ind].values,sample_weight=weights)\n",
    "        #cl.partial_fit(X,y[ind].values,classes=classes,sample_weight=weights)\n",
    "        print 'model fitted'\n",
    "        t2=time.time()\n",
    "        print t2-t1, 'sec'\n",
    "        sys.stdout.flush()\n",
    "        prob_te=cl.predict_proba(X_te)\n",
    "        pred_via_prob=prob_te.argmax(1)\n",
    "        pred=cl.predict(X_te)\n",
    "        #score methode 1\n",
    "        print \"score methode 1\", cl.score(X_te,y[one_te])\n",
    "        #score methode 2\n",
    "        print \"score methode 1\", np.mean(pred==y[one_te])\n",
    "        #score methode 3\n",
    "        print \"score methode 1\", np.mean(pred_via_prob==y[one_te])\n"
   ]
  },
  {
   "cell_type": "code",
   "execution_count": null,
   "metadata": {
    "collapsed": false
   },
   "outputs": [],
   "source": []
  },
  {
   "cell_type": "code",
   "execution_count": null,
   "metadata": {
    "collapsed": false
   },
   "outputs": [],
   "source": []
  },
  {
   "cell_type": "code",
   "execution_count": null,
   "metadata": {
    "collapsed": true
   },
   "outputs": [],
   "source": []
  }
 ],
 "metadata": {
  "kernelspec": {
   "display_name": "Python 2",
   "language": "python",
   "name": "python2"
  },
  "language_info": {
   "codemirror_mode": {
    "name": "ipython",
    "version": 2
   },
   "file_extension": ".py",
   "mimetype": "text/x-python",
   "name": "python",
   "nbconvert_exporter": "python",
   "pygments_lexer": "ipython2",
   "version": "2.7.10"
  }
 },
 "nbformat": 4,
 "nbformat_minor": 0
}
